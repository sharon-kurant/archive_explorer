{
  "cells": [
    {
      "cell_type": "markdown",
      "metadata": {
        "id": "view-in-github",
        "colab_type": "text"
      },
      "source": [
        "<a href=\"https://colab.research.google.com/github/sharon-kurant/archive_explorer/blob/main/training_and_inference.ipynb\" target=\"_parent\"><img src=\"https://colab.research.google.com/assets/colab-badge.svg\" alt=\"Open In Colab\"/></a>"
      ]
    },
    {
      "cell_type": "code",
      "execution_count": 1,
      "metadata": {
        "colab": {
          "base_uri": "https://localhost:8080/"
        },
        "id": "HkgjWp_J_TC_",
        "outputId": "8357564c-ecf2-4916-bb3e-d78d09213241"
      },
      "outputs": [
        {
          "output_type": "stream",
          "name": "stdout",
          "text": [
            "Mounted at /content/drive\n"
          ]
        }
      ],
      "source": [
        "from google.colab import drive\n",
        "drive.mount('/content/drive', force_remount=True)"
      ]
    },
    {
      "cell_type": "markdown",
      "source": [
        "## Load imports and requirements"
      ],
      "metadata": {
        "id": "CMxnHcpzNbYa"
      }
    },
    {
      "cell_type": "code",
      "execution_count": 2,
      "metadata": {
        "id": "m_uKB_fJ2F2f"
      },
      "outputs": [],
      "source": [
        "import os\n",
        "import pandas as pd\n",
        "import numpy as np\n",
        "import tensorflow as tf\n",
        "from tensorflow import keras\n",
        "from tensorflow.keras.layers import Dense, Flatten, Dropout\n",
        "from tensorflow.keras import layers\n",
        "from tensorflow.keras.models import Sequential\n",
        "from tensorflow.keras.optimizers import Adam\n",
        "import pathlib\n",
        "\n",
        "AUTO = tf.data.AUTOTUNE"
      ]
    },
    {
      "cell_type": "markdown",
      "source": [
        "## Path constants"
      ],
      "metadata": {
        "id": "rmajno0UCISL"
      }
    },
    {
      "cell_type": "code",
      "execution_count": null,
      "metadata": {
        "id": "Psr677-VEFgx"
      },
      "outputs": [],
      "source": [
        "#### Set a path to a tagged parent folder containing subfolders with images ####\n",
        "TRAIN_PATH = \"/path/to/train/dataset/\"\n",
        "\n",
        "############# Set a path to an untagged  folder containing images ##############\n",
        "INFERENCE_PATH = \"/path/to/inference/dataset\"\n",
        "\n",
        "########################### Set a path to a saved model ########################\n",
        "SAVE_MODEL_PATH = \"/path/to/save/model\""
      ]
    },
    {
      "cell_type": "markdown",
      "source": [
        "## Hyperparameters constants\n",
        "\n",
        "tune to match your needs"
      ],
      "metadata": {
        "id": "5Pf9IwNbCL-a"
      }
    },
    {
      "cell_type": "code",
      "source": [
        "EPOCHS = 3\n",
        "BATCH_SIZE = 4\n",
        "IMAGE_SIZE = (512,512)\n",
        "LEARNING_RATE = 0.001\n",
        "TRAIN_VAL_SPLIT = 0.2\n",
        "METRICS=['accuracy']\n",
        "LOSS_FUNCTION = 'sparse_categorical_crossentropy'"
      ],
      "metadata": {
        "id": "qsqAIP7-MmGQ"
      },
      "execution_count": 4,
      "outputs": []
    },
    {
      "cell_type": "markdown",
      "metadata": {
        "id": "Xu8QbcuExWWb"
      },
      "source": [
        "## Train process"
      ]
    },
    {
      "cell_type": "markdown",
      "source": [
        "#### Load training and validation dataset"
      ],
      "metadata": {
        "id": "YgPxW6hrLXKF"
      }
    },
    {
      "cell_type": "code",
      "execution_count": 5,
      "metadata": {
        "colab": {
          "base_uri": "https://localhost:8080/"
        },
        "id": "nEBU5diUD0xe",
        "outputId": "e3434a1e-c59c-4b59-abc8-20e9c12d8e8a"
      },
      "outputs": [
        {
          "output_type": "stream",
          "name": "stdout",
          "text": [
            "Found 19 files belonging to 3 classes.\n",
            "Using 16 files for training.\n"
          ]
        }
      ],
      "source": [
        "train_ds = tf.keras.preprocessing.image_dataset_from_directory(\n",
        "  TRAIN_PATH,\n",
        "  validation_split=TRAIN_VAL_SPLIT,\n",
        "  subset=\"training\",\n",
        "  seed=123,\n",
        "  shuffle=True,\n",
        "  labels=\"inferred\",\n",
        "  image_size=IMAGE_SIZE,\n",
        "  batch_size=BATCH_SIZE,\n",
        "  crop_to_aspect_ratio=True)"
      ]
    },
    {
      "cell_type": "code",
      "execution_count": 6,
      "metadata": {
        "colab": {
          "base_uri": "https://localhost:8080/"
        },
        "id": "nKrA2s4MEnFk",
        "outputId": "bb50f007-157c-4680-b937-c18c43e6a7bd"
      },
      "outputs": [
        {
          "output_type": "stream",
          "name": "stdout",
          "text": [
            "Found 19 files belonging to 3 classes.\n",
            "Using 3 files for validation.\n"
          ]
        }
      ],
      "source": [
        "val_ds = tf.keras.preprocessing.image_dataset_from_directory(\n",
        "  TRAIN_PATH,\n",
        "  validation_split=TRAIN_VAL_SPLIT,\n",
        "  subset=\"validation\",\n",
        "  seed=123,\n",
        "  shuffle=True,\n",
        "  labels=\"inferred\",\n",
        "  image_size=IMAGE_SIZE,\n",
        "  batch_size=BATCH_SIZE,\n",
        "  crop_to_aspect_ratio=True)"
      ]
    },
    {
      "cell_type": "markdown",
      "source": [
        "#### Load pretrained ResNet50 model and add a custom classification head"
      ],
      "metadata": {
        "id": "6TxL9gb1LbYc"
      }
    },
    {
      "cell_type": "code",
      "execution_count": 7,
      "metadata": {
        "id": "SLYA53DAEucm"
      },
      "outputs": [],
      "source": [
        "model = Sequential()\n",
        "\n",
        "pretrained_model = tf.keras.applications.ResNet50(\n",
        "                  include_top=False,\n",
        "                  weights='imagenet',\n",
        "                  input_shape=(*IMAGE_SIZE,3),\n",
        "                  pooling='avg',\n",
        "                  classes=len(train_ds.class_names))\n",
        "\n",
        "# Freeze ResNet50 weights\n",
        "for layer in pretrained_model.layers:\n",
        "  layer.trainable=False\n",
        "\n",
        "model.add(pretrained_model)\n",
        "\n",
        "# Add new classification head fulle connected network with dropout\n",
        "model.add(Flatten())\n",
        "model.add(Dense(512, activation='relu'))\n",
        "model.add(Dropout(0.4))\n",
        "model.add(Dense(256, activation='relu'))\n",
        "model.add(Dropout(0.3))\n",
        "model.add(Dense(128, activation='relu'))\n",
        "model.add(Dense(len(train_ds.class_names), activation='softmax'))"
      ]
    },
    {
      "cell_type": "markdown",
      "source": [
        "#### Train the model"
      ],
      "metadata": {
        "id": "mBfyBWkELmpJ"
      }
    },
    {
      "cell_type": "code",
      "source": [
        "model.compile(optimizer=Adam(learning_rate=LEARNING_RATE),loss=LOSS_FUNCTION, metrics=METRICS)\n",
        "history = model.fit(x=train_ds,validation_data=val_ds, epochs=EPOCHS)"
      ],
      "metadata": {
        "colab": {
          "base_uri": "https://localhost:8080/"
        },
        "id": "4UsbBCkg5Wxz",
        "outputId": "576705fc-4504-468c-def1-c9d2204d0e3f"
      },
      "execution_count": 8,
      "outputs": [
        {
          "output_type": "stream",
          "name": "stdout",
          "text": [
            "Epoch 1/3\n",
            "4/4 [==============================] - 11s 1s/step - loss: 1.1974 - accuracy: 0.5000 - val_loss: 1.6289 - val_accuracy: 0.6667\n",
            "Epoch 2/3\n",
            "4/4 [==============================] - 1s 92ms/step - loss: 0.7324 - accuracy: 0.7500 - val_loss: 0.9401 - val_accuracy: 0.6667\n",
            "Epoch 3/3\n",
            "4/4 [==============================] - 1s 94ms/step - loss: 0.6783 - accuracy: 0.7500 - val_loss: 0.5934 - val_accuracy: 0.6667\n"
          ]
        }
      ]
    },
    {
      "cell_type": "markdown",
      "source": [
        "## Inference"
      ],
      "metadata": {
        "id": "kvyy6CN0LsKO"
      }
    },
    {
      "cell_type": "markdown",
      "source": [
        "#### Load inference dataset"
      ],
      "metadata": {
        "id": "paIDato_LuZa"
      }
    },
    {
      "cell_type": "code",
      "source": [
        "inference_ds = tf.keras.preprocessing.image_dataset_from_directory(\n",
        "  INFERENCE_PATH,\n",
        "  shuffle=False,\n",
        "  labels=None,\n",
        "  image_size=IMAGE_SIZE,\n",
        "  batch_size=BATCH_SIZE,\n",
        "  crop_to_aspect_ratio = True)"
      ],
      "metadata": {
        "colab": {
          "base_uri": "https://localhost:8080/"
        },
        "id": "Jo1L6sJz10Z1",
        "outputId": "6837f80b-c90e-4f41-aeb1-d63696ad760a"
      },
      "execution_count": 9,
      "outputs": [
        {
          "output_type": "stream",
          "name": "stdout",
          "text": [
            "Found 3 files belonging to 1 classes.\n"
          ]
        }
      ]
    },
    {
      "cell_type": "markdown",
      "source": [
        "#### Apply trained model on the inference set"
      ],
      "metadata": {
        "id": "sagrmAbFL1NE"
      }
    },
    {
      "cell_type": "code",
      "source": [
        "confidence = model.predict(inference_ds)\n",
        "class_idx = np.argmax(confidence, axis=1)\n",
        "class_name = [train_ds.class_names[p] for p in class_idx]"
      ],
      "metadata": {
        "colab": {
          "base_uri": "https://localhost:8080/"
        },
        "id": "GqbSw0W45cNX",
        "outputId": "efe06693-6f3f-441e-e646-126dda1116be"
      },
      "execution_count": 10,
      "outputs": [
        {
          "output_type": "stream",
          "name": "stdout",
          "text": [
            "1/1 [==============================] - 1s 1s/step\n"
          ]
        }
      ]
    },
    {
      "cell_type": "markdown",
      "source": [
        "#### Save model results to prediction.csv"
      ],
      "metadata": {
        "id": "dLE3kqXOL5tY"
      }
    },
    {
      "cell_type": "code",
      "source": [
        "predictions_df = pd.DataFrame(data={'path':inference_ds.file_paths, 'class_idx': class_idx, 'class_name':class_name})\n",
        "predictions_df.to_csv(\"predictions.csv\", index=False)"
      ],
      "metadata": {
        "id": "uwku9LnQ3ViE"
      },
      "execution_count": 11,
      "outputs": []
    },
    {
      "cell_type": "markdown",
      "source": [
        "## Save model (optional)"
      ],
      "metadata": {
        "id": "QC7rRACiL-ic"
      }
    },
    {
      "cell_type": "code",
      "source": [
        "model.save(SAVE_MODEL_PATH)"
      ],
      "metadata": {
        "id": "5CAkTKR2LCZ4"
      },
      "execution_count": 12,
      "outputs": []
    },
    {
      "cell_type": "markdown",
      "source": [
        "## Load saved model and predict (optional)"
      ],
      "metadata": {
        "id": "7eCBU8vVNNGI"
      }
    },
    {
      "cell_type": "code",
      "source": [
        "loaded_model = keras.saving.load_model(SAVE_MODEL_PATH)"
      ],
      "metadata": {
        "id": "W4j1_PPAM0O7"
      },
      "execution_count": 13,
      "outputs": []
    },
    {
      "cell_type": "code",
      "source": [
        "loaded_model.predict(inference_ds)"
      ],
      "metadata": {
        "colab": {
          "base_uri": "https://localhost:8080/"
        },
        "id": "YbeippDuNGYd",
        "outputId": "f0920cd4-db94-4a0f-a4fe-f6bf8e7fc9c6"
      },
      "execution_count": 14,
      "outputs": [
        {
          "output_type": "stream",
          "name": "stdout",
          "text": [
            "1/1 [==============================] - 1s 1s/step\n"
          ]
        },
        {
          "output_type": "execute_result",
          "data": {
            "text/plain": [
              "array([[0.18967162, 0.16748136, 0.642847  ],\n",
              "       [0.45626593, 0.01939861, 0.5243355 ],\n",
              "       [0.1826696 , 0.3698817 , 0.44744876]], dtype=float32)"
            ]
          },
          "metadata": {},
          "execution_count": 14
        }
      ]
    }
  ],
  "metadata": {
    "colab": {
      "provenance": [],
      "machine_shape": "hm",
      "gpuType": "T4",
      "toc_visible": true,
      "include_colab_link": true
    },
    "kernelspec": {
      "display_name": "Python 3",
      "name": "python3"
    },
    "language_info": {
      "name": "python"
    },
    "accelerator": "GPU"
  },
  "nbformat": 4,
  "nbformat_minor": 0
}